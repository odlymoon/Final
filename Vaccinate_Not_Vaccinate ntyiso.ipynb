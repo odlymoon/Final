{
  "nbformat": 4,
  "nbformat_minor": 0,
  "metadata": {
    "kernelspec": {
      "display_name": "Python 3",
      "language": "python",
      "name": "python3"
    },
    "language_info": {
      "codemirror_mode": {
        "name": "ipython",
        "version": 3
      },
      "file_extension": ".py",
      "mimetype": "text/x-python",
      "name": "python",
      "nbconvert_exporter": "python",
      "pygments_lexer": "ipython3",
      "version": "3.6.10"
    },
    "colab": {
      "name": "Vaccinate_Not_Vaccinate.ipynb",
      "provenance": [],
      "toc_visible": true
    }
  },
  "cells": [
    {
      "cell_type": "markdown",
      "metadata": {
        "id": "lwzcbfAGE4Xn",
        "colab_type": "text"
      },
      "source": [
        "# **IMPORTS**"
      ]
    },
    {
      "cell_type": "markdown",
      "metadata": {
        "id": "ADhf658WEr80",
        "colab_type": "text"
      },
      "source": [
        ""
      ]
    },
    {
      "cell_type": "code",
      "metadata": {
        "id": "AI2NJ60qBVM7",
        "colab_type": "code",
        "colab": {}
      },
      "source": [
        "import numpy as np\n",
        "import pandas as pd\n",
        "import sklearn\n",
        "import matplotlib.pyplot as plt\n",
        "from numpy import arange\n",
        "import seaborn as sns\n",
        "\n",
        "import re\n",
        "import spacy.cli\n",
        "import nltk\n",
        "from nltk.corpus import stopwords\n",
        "from nltk.tokenize import word_tokenize\n",
        "from sklearn.feature_extraction.text import TfidfVectorizer\n",
        "\n",
        "\n",
        "from sklearn.metrics import accuracy_score, f1_score\n",
        "from sklearn.metrics import classification_report\n",
        "from sklearn.metrics import confusion_matrix\n",
        "from sklearn.metrics import f1_score, precision_score, recall_score\n",
        "\n",
        "\n",
        "from sklearn.svm import LinearSVC, SVC\n",
        "from sklearn.linear_model import SGDClassifier\n",
        "from sklearn.ensemble import ExtraTreesClassifier\n",
        "\n",
        "from sklearn.model_selection import train_test_split\n",
        "from sklearn.model_selection import cross_val_score\n",
        "from sklearn.model_selection import GridSearchCV\n",
        "from sklearn.model_selection import KFold\n",
        "\n",
        "from wordcloud import WordCloud"
      ],
      "execution_count": null,
      "outputs": []
    },
    {
      "cell_type": "code",
      "metadata": {
        "id": "PKqYnQ_9BVNE",
        "colab_type": "code",
        "colab": {
          "base_uri": "https://localhost:8080/",
          "height": 147
        },
        "outputId": "5a643cb0-4994-430a-8956-81d4af170ec2"
      },
      "source": [
        "spacy.cli.download('en_core_web_sm')\n",
        "nltk.download('punkt')\n",
        "nltk.download('wordnet')\n",
        "nltk.download('stopwords')\n",
        "\n",
        "stop_words = nltk.corpus.stopwords.words('english')\n",
        "nlp = spacy.load('en_core_web_sm')"
      ],
      "execution_count": null,
      "outputs": [
        {
          "output_type": "stream",
          "text": [
            "\u001b[38;5;2m✔ Download and installation successful\u001b[0m\n",
            "You can now load the model via spacy.load('en_core_web_sm')\n",
            "[nltk_data] Downloading package punkt to /root/nltk_data...\n",
            "[nltk_data]   Package punkt is already up-to-date!\n",
            "[nltk_data] Downloading package wordnet to /root/nltk_data...\n",
            "[nltk_data]   Package wordnet is already up-to-date!\n",
            "[nltk_data] Downloading package stopwords to /root/nltk_data...\n",
            "[nltk_data]   Package stopwords is already up-to-date!\n"
          ],
          "name": "stdout"
        }
      ]
    },
    {
      "cell_type": "markdown",
      "metadata": {
        "id": "5ZYtGpDEFIjp",
        "colab_type": "text"
      },
      "source": [
        "# **LOADING** **IN** **DATA**"
      ]
    },
    {
      "cell_type": "markdown",
      "metadata": {
        "id": "WiMCRvRMFD_a",
        "colab_type": "text"
      },
      "source": [
        ""
      ]
    },
    {
      "cell_type": "code",
      "metadata": {
        "id": "1hnH-M5EBVNO",
        "colab_type": "code",
        "colab": {}
      },
      "source": [
        "\n",
        "train = pd.read_csv(\"/content/Train (1).csv\")\n",
        "test = pd.read_csv(\"/content/Test (1).csv\")"
      ],
      "execution_count": null,
      "outputs": []
    },
    {
      "cell_type": "code",
      "metadata": {
        "id": "QCpa_OXdBVNX",
        "colab_type": "code",
        "colab": {}
      },
      "source": [
        "sample = pd.read_csv(\"/content/SampleSubmission.csv\")"
      ],
      "execution_count": null,
      "outputs": []
    },
    {
      "cell_type": "markdown",
      "metadata": {
        "id": "26So1jNEFgDL",
        "colab_type": "text"
      },
      "source": [
        "# VIEWING OUR DATA SET"
      ]
    },
    {
      "cell_type": "code",
      "metadata": {
        "id": "aKz7E5cHBVNc",
        "colab_type": "code",
        "colab": {
          "base_uri": "https://localhost:8080/",
          "height": 163
        },
        "outputId": "51d2b3e8-8ec0-4673-fa2f-3fef16ed0e27"
      },
      "source": [
        "sample.info()"
      ],
      "execution_count": null,
      "outputs": [
        {
          "output_type": "stream",
          "text": [
            "<class 'pandas.core.frame.DataFrame'>\n",
            "RangeIndex: 5177 entries, 0 to 5176\n",
            "Data columns (total 2 columns):\n",
            " #   Column    Non-Null Count  Dtype \n",
            "---  ------    --------------  ----- \n",
            " 0   tweet_id  5177 non-null   object\n",
            " 1   label     5177 non-null   int64 \n",
            "dtypes: int64(1), object(1)\n",
            "memory usage: 81.0+ KB\n"
          ],
          "name": "stdout"
        }
      ]
    },
    {
      "cell_type": "code",
      "metadata": {
        "id": "eRp8aPTOBVNh",
        "colab_type": "code",
        "colab": {
          "base_uri": "https://localhost:8080/",
          "height": 191
        },
        "outputId": "6f561939-e162-4f1d-9347-8cf65cd3b5c4"
      },
      "source": [
        "train.head()"
      ],
      "execution_count": null,
      "outputs": [
        {
          "output_type": "execute_result",
          "data": {
            "text/html": [
              "<div>\n",
              "<style scoped>\n",
              "    .dataframe tbody tr th:only-of-type {\n",
              "        vertical-align: middle;\n",
              "    }\n",
              "\n",
              "    .dataframe tbody tr th {\n",
              "        vertical-align: top;\n",
              "    }\n",
              "\n",
              "    .dataframe thead th {\n",
              "        text-align: right;\n",
              "    }\n",
              "</style>\n",
              "<table border=\"1\" class=\"dataframe\">\n",
              "  <thead>\n",
              "    <tr style=\"text-align: right;\">\n",
              "      <th></th>\n",
              "      <th>tweet_id</th>\n",
              "      <th>safe_text</th>\n",
              "      <th>label</th>\n",
              "      <th>agreement</th>\n",
              "    </tr>\n",
              "  </thead>\n",
              "  <tbody>\n",
              "    <tr>\n",
              "      <th>0</th>\n",
              "      <td>CL1KWCMY</td>\n",
              "      <td>Me &amp;amp; The Big Homie meanboy3000 #MEANBOY #M...</td>\n",
              "      <td>0.0</td>\n",
              "      <td>1.0</td>\n",
              "    </tr>\n",
              "    <tr>\n",
              "      <th>1</th>\n",
              "      <td>E3303EME</td>\n",
              "      <td>I'm 100% thinking of devoting my career to pro...</td>\n",
              "      <td>1.0</td>\n",
              "      <td>1.0</td>\n",
              "    </tr>\n",
              "    <tr>\n",
              "      <th>2</th>\n",
              "      <td>M4IVFSMS</td>\n",
              "      <td>#whatcausesautism VACCINES, DO NOT VACCINATE Y...</td>\n",
              "      <td>-1.0</td>\n",
              "      <td>1.0</td>\n",
              "    </tr>\n",
              "    <tr>\n",
              "      <th>3</th>\n",
              "      <td>1DR6ROZ4</td>\n",
              "      <td>I mean if they immunize my kid with something ...</td>\n",
              "      <td>-1.0</td>\n",
              "      <td>1.0</td>\n",
              "    </tr>\n",
              "    <tr>\n",
              "      <th>4</th>\n",
              "      <td>J77ENIIE</td>\n",
              "      <td>Thanks to &lt;user&gt; Catch me performing at La Nui...</td>\n",
              "      <td>0.0</td>\n",
              "      <td>1.0</td>\n",
              "    </tr>\n",
              "  </tbody>\n",
              "</table>\n",
              "</div>"
            ],
            "text/plain": [
              "   tweet_id  ... agreement\n",
              "0  CL1KWCMY  ...       1.0\n",
              "1  E3303EME  ...       1.0\n",
              "2  M4IVFSMS  ...       1.0\n",
              "3  1DR6ROZ4  ...       1.0\n",
              "4  J77ENIIE  ...       1.0\n",
              "\n",
              "[5 rows x 4 columns]"
            ]
          },
          "metadata": {
            "tags": []
          },
          "execution_count": 45
        }
      ]
    },
    {
      "cell_type": "code",
      "metadata": {
        "id": "p400pd5UBVNm",
        "colab_type": "code",
        "colab": {
          "base_uri": "https://localhost:8080/",
          "height": 191
        },
        "outputId": "fab27680-0140-4764-d230-b5efbc1ebc63"
      },
      "source": [
        "test.head()"
      ],
      "execution_count": null,
      "outputs": [
        {
          "output_type": "execute_result",
          "data": {
            "text/html": [
              "<div>\n",
              "<style scoped>\n",
              "    .dataframe tbody tr th:only-of-type {\n",
              "        vertical-align: middle;\n",
              "    }\n",
              "\n",
              "    .dataframe tbody tr th {\n",
              "        vertical-align: top;\n",
              "    }\n",
              "\n",
              "    .dataframe thead th {\n",
              "        text-align: right;\n",
              "    }\n",
              "</style>\n",
              "<table border=\"1\" class=\"dataframe\">\n",
              "  <thead>\n",
              "    <tr style=\"text-align: right;\">\n",
              "      <th></th>\n",
              "      <th>tweet_id</th>\n",
              "      <th>safe_text</th>\n",
              "    </tr>\n",
              "  </thead>\n",
              "  <tbody>\n",
              "    <tr>\n",
              "      <th>0</th>\n",
              "      <td>00BHHHP1</td>\n",
              "      <td>user user amp CARDINAL vaccine give CARDINAL h...</td>\n",
              "    </tr>\n",
              "    <tr>\n",
              "      <th>1</th>\n",
              "      <td>00UNMD0E</td>\n",
              "      <td>Students starting school without whooping coug...</td>\n",
              "    </tr>\n",
              "    <tr>\n",
              "      <th>2</th>\n",
              "      <td>01AXPTJF</td>\n",
              "      <td>I 'm kinda every ep &lt; user &gt; `` ripped headlin...</td>\n",
              "    </tr>\n",
              "    <tr>\n",
              "      <th>3</th>\n",
              "      <td>01HOEQJW</td>\n",
              "      <td>How many innocent children die lack vaccinatio...</td>\n",
              "    </tr>\n",
              "    <tr>\n",
              "      <th>4</th>\n",
              "      <td>01JUKMAO</td>\n",
              "      <td>CDC eyeing bird flu vaccine humans , though ri...</td>\n",
              "    </tr>\n",
              "  </tbody>\n",
              "</table>\n",
              "</div>"
            ],
            "text/plain": [
              "   tweet_id                                          safe_text\n",
              "0  00BHHHP1  user user amp CARDINAL vaccine give CARDINAL h...\n",
              "1  00UNMD0E  Students starting school without whooping coug...\n",
              "2  01AXPTJF  I 'm kinda every ep < user > `` ripped headlin...\n",
              "3  01HOEQJW  How many innocent children die lack vaccinatio...\n",
              "4  01JUKMAO  CDC eyeing bird flu vaccine humans , though ri..."
            ]
          },
          "metadata": {
            "tags": []
          },
          "execution_count": 73
        }
      ]
    },
    {
      "cell_type": "markdown",
      "metadata": {
        "id": "YH3IHgrKFymK",
        "colab_type": "text"
      },
      "source": [
        "# DATA CLEANINING"
      ]
    },
    {
      "cell_type": "code",
      "metadata": {
        "id": "NzMTKTUxBVN1",
        "colab_type": "code",
        "colab": {}
      },
      "source": [
        "\n",
        "\n",
        "def clean_text(df):\n",
        "    i = 0\n",
        "    for tweet in df['safe_text']:\n",
        "      tweet = tweet.lower()\n",
        "      tweet = re.sub(r'http\\S+', 'LINK', tweet)\n",
        "      tweet = re.sub(r'@\\S+', 'USER_REF', tweet)\n",
        "      tweet = re.sub(r'[^\\w\\s]', '', tweet)\n",
        "      tweet = tweet.lstrip()\n",
        "      tweet = tweet.rstrip()\n",
        "      tweet = tweet.replace('  ', ' ')\n",
        "      df.loc[i, 'safe_text'] = tweet\n",
        "      i += 1\n",
        "\n",
        "      return df"
      ],
      "execution_count": null,
      "outputs": []
    },
    {
      "cell_type": "markdown",
      "metadata": {
        "id": "oHiD-NVdGBF5",
        "colab_type": "text"
      },
      "source": [
        "# STOP WORDS REMOVAL"
      ]
    },
    {
      "cell_type": "code",
      "metadata": {
        "id": "Xq42VzAQBVN8",
        "colab_type": "code",
        "colab": {}
      },
      "source": [
        "\n",
        "\n",
        "def remove_stopwords(df):\n",
        "    my_stop_words = stopwords.words('english')\n",
        "    my_stop_words.append('LINK')\n",
        "    my_stop_words.append('USER_REF')\n",
        "\n",
        "    df_index = 0\n",
        "\n",
        "    for tweet in df['safe_text']:\n",
        "      tweet = word_tokenize(tweet)\n",
        "      tweet = [word for word in tweet if not word in my_stop_words]\n",
        "      tweet = ' '.join(tweet)\n",
        "\n",
        "      df.loc[df_index, 'safe_text'] = tweet\n",
        "      df_index += 1\n",
        "\n",
        "    return df"
      ],
      "execution_count": null,
      "outputs": []
    },
    {
      "cell_type": "markdown",
      "metadata": {
        "id": "B2MqdZFGGOrg",
        "colab_type": "text"
      },
      "source": [
        "## ENTITIES FINDER"
      ]
    },
    {
      "cell_type": "code",
      "metadata": {
        "id": "n-Q2FEREBVOD",
        "colab_type": "code",
        "colab": {}
      },
      "source": [
        "\n",
        "\n",
        "def entities(df):\n",
        "    df_index = 0\n",
        "\n",
        "    for tweet in df['safe_text']:\n",
        "      tweet = nlp(tweet)\n",
        "\n",
        "      for entity in tweet.ents:\n",
        "        df.loc[df_index, 'safe_text'] = df.loc[df_index, 'safe_text'].replace(str(entity.text), str(entity.label_))\n",
        "\n",
        "      df_index += 1\n",
        "\n",
        "      return df"
      ],
      "execution_count": null,
      "outputs": []
    },
    {
      "cell_type": "markdown",
      "metadata": {
        "id": "4yr06kutGYc6",
        "colab_type": "text"
      },
      "source": [
        "## LEMMITAZATION OF TEXT DATA"
      ]
    },
    {
      "cell_type": "code",
      "metadata": {
        "id": "JK-RhGYRBVOK",
        "colab_type": "code",
        "colab": {}
      },
      "source": [
        "\n",
        "\n",
        "def lem_text(df):\n",
        "    df_index = 0\n",
        "\n",
        "    for tweet in df['safe_text']:\n",
        "      tweet = nlp(tweet)\n",
        "      \n",
        "      for token in tweet:\n",
        "        df.loc[df_index, 'safe_text'] = df.loc[df_index, 'safe_text'].replace(str(token.text), str(token.lemma_))\n",
        "\n",
        "      df_index += 1\n",
        "\n",
        "      return df"
      ],
      "execution_count": null,
      "outputs": []
    },
    {
      "cell_type": "markdown",
      "metadata": {
        "id": "fjCorrVTGjRx",
        "colab_type": "text"
      },
      "source": [
        "## clean, remove stop words, entities, and lemmatize train set"
      ]
    },
    {
      "cell_type": "code",
      "metadata": {
        "id": "HUlO4YnxBVOQ",
        "colab_type": "code",
        "colab": {
          "base_uri": "https://localhost:8080/",
          "height": 391
        },
        "outputId": "ee0faf1b-e2d8-4521-a337-5245cdf556d7"
      },
      "source": [
        "\n",
        "clean_text(train)\n",
        "remove_stopwords(train)\n",
        "entities(train)\n",
        "lem_text(train)"
      ],
      "execution_count": null,
      "outputs": [
        {
          "output_type": "execute_result",
          "data": {
            "text/html": [
              "<div>\n",
              "<style scoped>\n",
              "    .dataframe tbody tr th:only-of-type {\n",
              "        vertical-align: middle;\n",
              "    }\n",
              "\n",
              "    .dataframe tbody tr th {\n",
              "        vertical-align: top;\n",
              "    }\n",
              "\n",
              "    .dataframe thead th {\n",
              "        text-align: right;\n",
              "    }\n",
              "</style>\n",
              "<table border=\"1\" class=\"dataframe\">\n",
              "  <thead>\n",
              "    <tr style=\"text-align: right;\">\n",
              "      <th></th>\n",
              "      <th>tweet_id</th>\n",
              "      <th>safe_text</th>\n",
              "      <th>label</th>\n",
              "      <th>agreement</th>\n",
              "    </tr>\n",
              "  </thead>\n",
              "  <tbody>\n",
              "    <tr>\n",
              "      <th>0</th>\n",
              "      <td>CL1KWCMY</td>\n",
              "      <td>amp big homie meanboy3000 meanboy mb mbs mmr s...</td>\n",
              "      <td>0.0</td>\n",
              "      <td>1.000000</td>\n",
              "    </tr>\n",
              "    <tr>\n",
              "      <th>1</th>\n",
              "      <td>E3303EME</td>\n",
              "      <td>I 'm 100 % thinking devoting career proving au...</td>\n",
              "      <td>1.0</td>\n",
              "      <td>1.000000</td>\n",
              "    </tr>\n",
              "    <tr>\n",
              "      <th>2</th>\n",
              "      <td>M4IVFSMS</td>\n",
              "      <td># whatcausesautism VACCINES , DO NOT VACCINATE...</td>\n",
              "      <td>-1.0</td>\n",
              "      <td>1.000000</td>\n",
              "    </tr>\n",
              "    <tr>\n",
              "      <th>3</th>\n",
              "      <td>1DR6ROZ4</td>\n",
              "      <td>I mean immunize kid something wo n't secretly ...</td>\n",
              "      <td>-1.0</td>\n",
              "      <td>1.000000</td>\n",
              "    </tr>\n",
              "    <tr>\n",
              "      <th>4</th>\n",
              "      <td>J77ENIIE</td>\n",
              "      <td>Thanks &lt; user &gt; Catch performing La Nuit NYC 1...</td>\n",
              "      <td>0.0</td>\n",
              "      <td>1.000000</td>\n",
              "    </tr>\n",
              "    <tr>\n",
              "      <th>...</th>\n",
              "      <td>...</td>\n",
              "      <td>...</td>\n",
              "      <td>...</td>\n",
              "      <td>...</td>\n",
              "    </tr>\n",
              "    <tr>\n",
              "      <th>9996</th>\n",
              "      <td>IU0TIJDI</td>\n",
              "      <td>Living time sperm I used waste Jenny McCarthy ...</td>\n",
              "      <td>1.0</td>\n",
              "      <td>1.000000</td>\n",
              "    </tr>\n",
              "    <tr>\n",
              "      <th>9997</th>\n",
              "      <td>WKKPCJY6</td>\n",
              "      <td>&lt; user &gt; &lt; user &gt; In spite measles outbreaks ,...</td>\n",
              "      <td>1.0</td>\n",
              "      <td>0.666667</td>\n",
              "    </tr>\n",
              "    <tr>\n",
              "      <th>9998</th>\n",
              "      <td>ST3A265H</td>\n",
              "      <td>Interesting trends child immunization Oklahoma...</td>\n",
              "      <td>0.0</td>\n",
              "      <td>1.000000</td>\n",
              "    </tr>\n",
              "    <tr>\n",
              "      <th>9999</th>\n",
              "      <td>6Z27IJGD</td>\n",
              "      <td>CDC Says Measles Are At Highest Levels In Deca...</td>\n",
              "      <td>0.0</td>\n",
              "      <td>1.000000</td>\n",
              "    </tr>\n",
              "    <tr>\n",
              "      <th>10000</th>\n",
              "      <td>P6190L3Q</td>\n",
              "      <td>Pneumonia vaccine : women w risk pulmonary dis...</td>\n",
              "      <td>1.0</td>\n",
              "      <td>0.666667</td>\n",
              "    </tr>\n",
              "  </tbody>\n",
              "</table>\n",
              "<p>10001 rows × 4 columns</p>\n",
              "</div>"
            ],
            "text/plain": [
              "       tweet_id  ... agreement\n",
              "0      CL1KWCMY  ...  1.000000\n",
              "1      E3303EME  ...  1.000000\n",
              "2      M4IVFSMS  ...  1.000000\n",
              "3      1DR6ROZ4  ...  1.000000\n",
              "4      J77ENIIE  ...  1.000000\n",
              "...         ...  ...       ...\n",
              "9996   IU0TIJDI  ...  1.000000\n",
              "9997   WKKPCJY6  ...  0.666667\n",
              "9998   ST3A265H  ...  1.000000\n",
              "9999   6Z27IJGD  ...  1.000000\n",
              "10000  P6190L3Q  ...  0.666667\n",
              "\n",
              "[10001 rows x 4 columns]"
            ]
          },
          "metadata": {
            "tags": []
          },
          "execution_count": 49
        }
      ]
    },
    {
      "cell_type": "markdown",
      "metadata": {
        "id": "sL6Yj3rHGtHJ",
        "colab_type": "text"
      },
      "source": [
        "## STR TYPE DATA"
      ]
    },
    {
      "cell_type": "code",
      "metadata": {
        "id": "4gNAwdN5BVOU",
        "colab_type": "code",
        "colab": {}
      },
      "source": [
        "\n",
        "test[['safe_text']] = test[['safe_text']].astype(str)"
      ],
      "execution_count": null,
      "outputs": []
    },
    {
      "cell_type": "code",
      "metadata": {
        "id": "jwA0w85kBVOY",
        "colab_type": "code",
        "colab": {
          "base_uri": "https://localhost:8080/",
          "height": 391
        },
        "outputId": "33806b4c-63ed-4663-f970-83816b3e41e8"
      },
      "source": [
        "\n",
        "clean_text(test)\n",
        "remove_stopwords(test)\n",
        "entities(test)\n",
        "lem_text(test)"
      ],
      "execution_count": null,
      "outputs": [
        {
          "output_type": "execute_result",
          "data": {
            "text/html": [
              "<div>\n",
              "<style scoped>\n",
              "    .dataframe tbody tr th:only-of-type {\n",
              "        vertical-align: middle;\n",
              "    }\n",
              "\n",
              "    .dataframe tbody tr th {\n",
              "        vertical-align: top;\n",
              "    }\n",
              "\n",
              "    .dataframe thead th {\n",
              "        text-align: right;\n",
              "    }\n",
              "</style>\n",
              "<table border=\"1\" class=\"dataframe\">\n",
              "  <thead>\n",
              "    <tr style=\"text-align: right;\">\n",
              "      <th></th>\n",
              "      <th>tweet_id</th>\n",
              "      <th>safe_text</th>\n",
              "    </tr>\n",
              "  </thead>\n",
              "  <tbody>\n",
              "    <tr>\n",
              "      <th>0</th>\n",
              "      <td>00BHHHP1</td>\n",
              "      <td>user user amp CARDINAL vaccine give CARDINAL h...</td>\n",
              "    </tr>\n",
              "    <tr>\n",
              "      <th>1</th>\n",
              "      <td>00UNMD0E</td>\n",
              "      <td>Students starting school without whooping coug...</td>\n",
              "    </tr>\n",
              "    <tr>\n",
              "      <th>2</th>\n",
              "      <td>01AXPTJF</td>\n",
              "      <td>I 'm kinda every ep &lt; user &gt; `` ripped headlin...</td>\n",
              "    </tr>\n",
              "    <tr>\n",
              "      <th>3</th>\n",
              "      <td>01HOEQJW</td>\n",
              "      <td>How many innocent children die lack vaccinatio...</td>\n",
              "    </tr>\n",
              "    <tr>\n",
              "      <th>4</th>\n",
              "      <td>01JUKMAO</td>\n",
              "      <td>CDC eyeing bird flu vaccine humans , though ri...</td>\n",
              "    </tr>\n",
              "    <tr>\n",
              "      <th>...</th>\n",
              "      <td>...</td>\n",
              "      <td>...</td>\n",
              "    </tr>\n",
              "    <tr>\n",
              "      <th>5172</th>\n",
              "      <td>ZXVVNC5O</td>\n",
              "      <td>jenny mccarthy new years rockin eve . done lat...</td>\n",
              "    </tr>\n",
              "    <tr>\n",
              "      <th>5173</th>\n",
              "      <td>ZYIANVI8</td>\n",
              "      <td>Measles reported Clark Co. 1st time since 2011...</td>\n",
              "    </tr>\n",
              "    <tr>\n",
              "      <th>5174</th>\n",
              "      <td>ZYITEHAH</td>\n",
              "      <td>&lt; user &gt; issues alert regarding Measles TX . K...</td>\n",
              "    </tr>\n",
              "    <tr>\n",
              "      <th>5175</th>\n",
              "      <td>ZZ3BMBTG</td>\n",
              "      <td>I ca n't believe people n't vaccinate kids ! I...</td>\n",
              "    </tr>\n",
              "    <tr>\n",
              "      <th>5176</th>\n",
              "      <td>ZZIYCVNH</td>\n",
              "      <td>`` &lt; user &gt; Alternatives # Flu Vaccine &lt; url &gt;...</td>\n",
              "    </tr>\n",
              "  </tbody>\n",
              "</table>\n",
              "<p>5177 rows × 2 columns</p>\n",
              "</div>"
            ],
            "text/plain": [
              "      tweet_id                                          safe_text\n",
              "0     00BHHHP1  user user amp CARDINAL vaccine give CARDINAL h...\n",
              "1     00UNMD0E  Students starting school without whooping coug...\n",
              "2     01AXPTJF  I 'm kinda every ep < user > `` ripped headlin...\n",
              "3     01HOEQJW  How many innocent children die lack vaccinatio...\n",
              "4     01JUKMAO  CDC eyeing bird flu vaccine humans , though ri...\n",
              "...        ...                                                ...\n",
              "5172  ZXVVNC5O  jenny mccarthy new years rockin eve . done lat...\n",
              "5173  ZYIANVI8  Measles reported Clark Co. 1st time since 2011...\n",
              "5174  ZYITEHAH  < user > issues alert regarding Measles TX . K...\n",
              "5175  ZZ3BMBTG  I ca n't believe people n't vaccinate kids ! I...\n",
              "5176  ZZIYCVNH  `` < user > Alternatives # Flu Vaccine < url >...\n",
              "\n",
              "[5177 rows x 2 columns]"
            ]
          },
          "metadata": {
            "tags": []
          },
          "execution_count": 51
        }
      ]
    },
    {
      "cell_type": "markdown",
      "metadata": {
        "id": "0h77uSkVG9_-",
        "colab_type": "text"
      },
      "source": [
        "## CHECK THE MISSING VALUES"
      ]
    },
    {
      "cell_type": "code",
      "metadata": {
        "id": "XVmD4BBiBVOg",
        "colab_type": "code",
        "colab": {
          "base_uri": "https://localhost:8080/",
          "height": 98
        },
        "outputId": "0c20592c-3ada-4158-d689-da70d50a8d42"
      },
      "source": [
        "train.isnull().sum()"
      ],
      "execution_count": null,
      "outputs": [
        {
          "output_type": "execute_result",
          "data": {
            "text/plain": [
              "tweet_id     0\n",
              "safe_text    0\n",
              "label        1\n",
              "agreement    2\n",
              "dtype: int64"
            ]
          },
          "metadata": {
            "tags": []
          },
          "execution_count": 52
        }
      ]
    },
    {
      "cell_type": "code",
      "metadata": {
        "id": "VFl-9X59BVOj",
        "colab_type": "code",
        "colab": {
          "base_uri": "https://localhost:8080/",
          "height": 66
        },
        "outputId": "cb594793-91d4-4005-8212-bf9b236746d2"
      },
      "source": [
        "test.isnull().sum()"
      ],
      "execution_count": null,
      "outputs": [
        {
          "output_type": "execute_result",
          "data": {
            "text/plain": [
              "tweet_id     0\n",
              "safe_text    0\n",
              "dtype: int64"
            ]
          },
          "metadata": {
            "tags": []
          },
          "execution_count": 90
        }
      ]
    },
    {
      "cell_type": "code",
      "metadata": {
        "id": "poR2cqymBVOo",
        "colab_type": "code",
        "colab": {}
      },
      "source": [
        "\n",
        "train.dropna(thresh=3, inplace=True)"
      ],
      "execution_count": null,
      "outputs": []
    },
    {
      "cell_type": "code",
      "metadata": {
        "id": "HO5uBqPyBVOr",
        "colab_type": "code",
        "colab": {
          "base_uri": "https://localhost:8080/",
          "height": 98
        },
        "outputId": "4bc6a634-4c86-4758-8e30-091530c02578"
      },
      "source": [
        "\n",
        "train.label.value_counts()"
      ],
      "execution_count": null,
      "outputs": [
        {
          "output_type": "execute_result",
          "data": {
            "text/plain": [
              " 0.000000    4908\n",
              " 1.000000    4053\n",
              "-1.000000    1038\n",
              " 0.666667       1\n",
              "Name: label, dtype: int64"
            ]
          },
          "metadata": {
            "tags": []
          },
          "execution_count": 64
        }
      ]
    },
    {
      "cell_type": "code",
      "metadata": {
        "id": "_ZBO7IMWBVOx",
        "colab_type": "code",
        "colab": {}
      },
      "source": [
        "\n",
        "train['label'].mask(train['label'] >= 0.5, 1, inplace=True)"
      ],
      "execution_count": null,
      "outputs": []
    },
    {
      "cell_type": "code",
      "metadata": {
        "id": "PMA9VaWPBVO2",
        "colab_type": "code",
        "colab": {
          "base_uri": "https://localhost:8080/",
          "height": 278
        },
        "outputId": "00c4ad63-2310-46be-b83b-fad7c669695d"
      },
      "source": [
        "counts = train[\"label\"].value_counts()\n",
        "plt.bar(range(len(counts)), counts)\n",
        "plt.xticks([0, 1, 2], ['Neutral', 'Pro', 'Anti'])\n",
        "\n",
        "plt.ylabel(\"Total per class\")\n",
        "plt.xlabel(\"Sentiment Classes\")\n",
        "plt.show()"
      ],
      "execution_count": null,
      "outputs": [
        {
          "output_type": "display_data",
          "data": {
            "image/png": "[encoded data removed]",
            "text/plain": [
              "<Figure size 432x288 with 1 Axes>"
            ]
          },
          "metadata": {
            "tags": [],
            "needs_background": "light"
          }
        }
      ]
    },
    {
      "cell_type": "code",
      "metadata": {
        "id": "M46zbGiBBVO5",
        "colab_type": "code",
        "colab": {
          "base_uri": "https://localhost:8080/",
          "height": 33
        },
        "outputId": "92028dbc-d85e-4072-daf6-0a61f1f846ef"
      },
      "source": [
        "\n",
        "len(train[train.label==0])/len(train.label)"
      ],
      "execution_count": null,
      "outputs": [
        {
          "output_type": "execute_result",
          "data": {
            "text/plain": [
              "0.4908"
            ]
          },
          "metadata": {
            "tags": []
          },
          "execution_count": 83
        }
      ]
    },
    {
      "cell_type": "code",
      "metadata": {
        "id": "RTxnrle2BVPB",
        "colab_type": "code",
        "colab": {
          "base_uri": "https://localhost:8080/",
          "height": 212
        },
        "outputId": "96984c65-3e95-48a7-b5a6-75bf86b2387d"
      },
      "source": [
        "\n",
        "X_train = train['safe_text']\n",
        "X_train"
      ],
      "execution_count": null,
      "outputs": [
        {
          "output_type": "execute_result",
          "data": {
            "text/plain": [
              "0        amp big homie meanboy3000 meanboy mb mbs mmr s...\n",
              "1        I 'm 100 % thinking devoting career proving au...\n",
              "2        # whatcausesautism VACCINES , DO NOT VACCINATE...\n",
              "3        I mean immunize kid something wo n't secretly ...\n",
              "4        Thanks < user > Catch performing La Nuit NYC 1...\n",
              "                               ...                        \n",
              "9996     Living time sperm I used waste Jenny McCarthy ...\n",
              "9997     < user > < user > In spite measles outbreaks ,...\n",
              "9998     Interesting trends child immunization Oklahoma...\n",
              "9999     CDC Says Measles Are At Highest Levels In Deca...\n",
              "10000    Pneumonia vaccine : women w risk pulmonary dis...\n",
              "Name: safe_text, Length: 10000, dtype: object"
            ]
          },
          "metadata": {
            "tags": []
          },
          "execution_count": 84
        }
      ]
    },
    {
      "cell_type": "code",
      "metadata": {
        "id": "it4WnGGzBVPF",
        "colab_type": "code",
        "colab": {
          "base_uri": "https://localhost:8080/",
          "height": 212
        },
        "outputId": "6a85045a-0f52-43bf-a0d4-18fa7eadf2a6"
      },
      "source": [
        "y_train = train['label']\n",
        "y_train"
      ],
      "execution_count": null,
      "outputs": [
        {
          "output_type": "execute_result",
          "data": {
            "text/plain": [
              "0        0.0\n",
              "1        1.0\n",
              "2       -1.0\n",
              "3       -1.0\n",
              "4        0.0\n",
              "        ... \n",
              "9996     1.0\n",
              "9997     1.0\n",
              "9998     0.0\n",
              "9999     0.0\n",
              "10000    1.0\n",
              "Name: label, Length: 10000, dtype: float64"
            ]
          },
          "metadata": {
            "tags": []
          },
          "execution_count": 86
        }
      ]
    },
    {
      "cell_type": "code",
      "metadata": {
        "id": "yuyR310SBVPI",
        "colab_type": "code",
        "colab": {
          "base_uri": "https://localhost:8080/",
          "height": 212
        },
        "outputId": "aee6c996-2230-4f0b-b1d6-5bd3e9c31d8a"
      },
      "source": [
        "X_test = test['safe_text']\n",
        "X_test"
      ],
      "execution_count": null,
      "outputs": [
        {
          "output_type": "execute_result",
          "data": {
            "text/plain": [
              "0       user user amp CARDINAL vaccine give CARDINAL h...\n",
              "1       Students starting school without whooping coug...\n",
              "2       I 'm kinda every ep < user > `` ripped headlin...\n",
              "3       How many innocent children die lack vaccinatio...\n",
              "4       CDC eyeing bird flu vaccine humans , though ri...\n",
              "                              ...                        \n",
              "5172    jenny mccarthy new years rockin eve . done lat...\n",
              "5173    Measles reported Clark Co. 1st time since 2011...\n",
              "5174    < user > issues alert regarding Measles TX . K...\n",
              "5175    I ca n't believe people n't vaccinate kids ! I...\n",
              "5176    `` < user > Alternatives # Flu Vaccine < url >...\n",
              "Name: safe_text, Length: 5177, dtype: object"
            ]
          },
          "metadata": {
            "tags": []
          },
          "execution_count": 85
        }
      ]
    },
    {
      "cell_type": "code",
      "metadata": {
        "id": "nwx6iwJpBVPM",
        "colab_type": "code",
        "colab": {}
      },
      "source": [
        "vectorizer = TfidfVectorizer(lowercase=True,\n",
        "                            stop_words='english',\n",
        "                            ngram_range=(1, 2))\n",
        "\n",
        "X_train = vectorizer.fit_transform(X_train)"
      ],
      "execution_count": null,
      "outputs": []
    },
    {
      "cell_type": "markdown",
      "metadata": {
        "id": "9Z6apOpRBVPP",
        "colab_type": "text"
      },
      "source": [
        "# fit on models\n",
        "\n",
        "## linear SVC"
      ]
    },
    {
      "cell_type": "code",
      "metadata": {
        "id": "ZyMQnyHzBVPQ",
        "colab_type": "code",
        "colab": {}
      },
      "source": [
        "linear_svc = LinearSVC()"
      ],
      "execution_count": null,
      "outputs": []
    },
    {
      "cell_type": "code",
      "metadata": {
        "id": "zAp3ulbwBVPS",
        "colab_type": "code",
        "colab": {
          "base_uri": "https://localhost:8080/",
          "height": 82
        },
        "outputId": "fc54c658-bb71-41aa-c0fb-3b76d85191d2"
      },
      "source": [
        "linear_svc.fit(X_train, y_train)"
      ],
      "execution_count": null,
      "outputs": [
        {
          "output_type": "execute_result",
          "data": {
            "text/plain": [
              "LinearSVC(C=1.0, class_weight=None, dual=True, fit_intercept=True,\n",
              "          intercept_scaling=1, loss='squared_hinge', max_iter=1000,\n",
              "          multi_class='ovr', penalty='l2', random_state=None, tol=0.0001,\n",
              "          verbose=0)"
            ]
          },
          "metadata": {
            "tags": []
          },
          "execution_count": 31
        }
      ]
    },
    {
      "cell_type": "code",
      "metadata": {
        "id": "Amrf7aXKBVPW",
        "colab_type": "code",
        "colab": {}
      },
      "source": [
        "X_test = vectorizer.transform(X_test)"
      ],
      "execution_count": null,
      "outputs": []
    },
    {
      "cell_type": "code",
      "metadata": {
        "id": "yZKZe9JnBVPb",
        "colab_type": "code",
        "colab": {}
      },
      "source": [
        "y_pred_linearsvc = linear_svc.predict(X_test)"
      ],
      "execution_count": null,
      "outputs": []
    },
    {
      "cell_type": "markdown",
      "metadata": {
        "id": "_fnDVYlsHLbx",
        "colab_type": "text"
      },
      "source": [
        "## create submition file"
      ]
    },
    {
      "cell_type": "code",
      "metadata": {
        "id": "77VDB_jDBVPe",
        "colab_type": "code",
        "colab": {}
      },
      "source": [
        "\n",
        "\n",
        "submit_lsvc = test.copy()\n",
        "submit_lsvc.drop(columns=['safe_text'], inplace=True)\n",
        "submit_lsvc['label'] = y_pred_linearsvc\n",
        "\n",
        "submit_lsvc['label'] = submit_lsvc['label'].astype(int)\n",
        "submit_lsvc = submit_lsvc.set_index('tweet_id')"
      ],
      "execution_count": null,
      "outputs": []
    },
    {
      "cell_type": "code",
      "metadata": {
        "id": "Tb5TsvwxBVPh",
        "colab_type": "code",
        "colab": {
          "base_uri": "https://localhost:8080/",
          "height": 220
        },
        "outputId": "e2d7ea4c-73c0-47ca-e688-c349215f92be"
      },
      "source": [
        "submit_lsvc.head()"
      ],
      "execution_count": null,
      "outputs": [
        {
          "output_type": "execute_result",
          "data": {
            "text/html": [
              "<div>\n",
              "<style scoped>\n",
              "    .dataframe tbody tr th:only-of-type {\n",
              "        vertical-align: middle;\n",
              "    }\n",
              "\n",
              "    .dataframe tbody tr th {\n",
              "        vertical-align: top;\n",
              "    }\n",
              "\n",
              "    .dataframe thead th {\n",
              "        text-align: right;\n",
              "    }\n",
              "</style>\n",
              "<table border=\"1\" class=\"dataframe\">\n",
              "  <thead>\n",
              "    <tr style=\"text-align: right;\">\n",
              "      <th></th>\n",
              "      <th>label</th>\n",
              "    </tr>\n",
              "    <tr>\n",
              "      <th>tweet_id</th>\n",
              "      <th></th>\n",
              "    </tr>\n",
              "  </thead>\n",
              "  <tbody>\n",
              "    <tr>\n",
              "      <th>00BHHHP1</th>\n",
              "      <td>1</td>\n",
              "    </tr>\n",
              "    <tr>\n",
              "      <th>00UNMD0E</th>\n",
              "      <td>1</td>\n",
              "    </tr>\n",
              "    <tr>\n",
              "      <th>01AXPTJF</th>\n",
              "      <td>0</td>\n",
              "    </tr>\n",
              "    <tr>\n",
              "      <th>01HOEQJW</th>\n",
              "      <td>1</td>\n",
              "    </tr>\n",
              "    <tr>\n",
              "      <th>01JUKMAO</th>\n",
              "      <td>0</td>\n",
              "    </tr>\n",
              "  </tbody>\n",
              "</table>\n",
              "</div>"
            ],
            "text/plain": [
              "          label\n",
              "tweet_id       \n",
              "00BHHHP1      1\n",
              "00UNMD0E      1\n",
              "01AXPTJF      0\n",
              "01HOEQJW      1\n",
              "01JUKMAO      0"
            ]
          },
          "metadata": {
            "tags": []
          },
          "execution_count": 35
        }
      ]
    },
    {
      "cell_type": "code",
      "metadata": {
        "id": "c0nP7VLCBVPl",
        "colab_type": "code",
        "colab": {}
      },
      "source": [
        "submit_lsvc.to_csv('submit_lsvc.csv')"
      ],
      "execution_count": null,
      "outputs": []
    },
    {
      "cell_type": "code",
      "metadata": {
        "id": "qEmg4SsOBVPq",
        "colab_type": "code",
        "colab": {}
      },
      "source": [
        ""
      ],
      "execution_count": null,
      "outputs": []
    }
  ]
}